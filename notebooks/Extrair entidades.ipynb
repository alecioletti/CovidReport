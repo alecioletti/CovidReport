{
 "metadata": {
  "language_info": {
   "codemirror_mode": {
    "name": "ipython",
    "version": 3
   },
   "file_extension": ".py",
   "mimetype": "text/x-python",
   "name": "python",
   "nbconvert_exporter": "python",
   "pygments_lexer": "ipython3",
   "version": "3.8.8-final"
  },
  "orig_nbformat": 2,
  "kernelspec": {
   "name": "python3",
   "display_name": "Python 3.8.8 64-bit ('ProjetoFinal': conda)",
   "metadata": {
    "interpreter": {
     "hash": "4b174bf6935fd57152309c9f5b71160f1b9dd74b1a7401c4858f2c19d34e94f9"
    }
   }
  }
 },
 "nbformat": 4,
 "nbformat_minor": 2,
 "cells": [
  {
   "cell_type": "code",
   "execution_count": 1,
   "metadata": {},
   "outputs": [],
   "source": [
    "#Instalação de pacotes\n",
    "#!pip install spacy\n",
    "#!python -m spacy download pt_core_news_sm"
   ]
  },
  {
   "cell_type": "code",
   "execution_count": 3,
   "metadata": {},
   "outputs": [],
   "source": [
    "import sys, os\n",
    "sys.path.append(os.path.abspath(os.path.join('../..', 'CovidReport')))\n",
    "import pandas as pd\n",
    "import json\n",
    "from processadores.nlp import NLP"
   ]
  },
  {
   "cell_type": "code",
   "execution_count": 5,
   "metadata": {},
   "outputs": [],
   "source": [
    "path = open('dados/noticias-covid.json')\n",
    "json_df = json.loads(path.read())\n",
    "df = pd.DataFrame.from_dict(json_df)\n",
    "noticia = df['noticia'][0]"
   ]
  },
  {
   "cell_type": "code",
   "execution_count": 8,
   "metadata": {},
   "outputs": [],
   "source": [
    "nlp = NLP(\" \".join(noticia))"
   ]
  },
  {
   "cell_type": "code",
   "execution_count": 9,
   "metadata": {},
   "outputs": [
    {
     "output_type": "stream",
     "name": "stdout",
     "text": [
      "{'entidade': 'Andersen Navarro', 'tag': 'PER'}\n{'entidade': 'Complexo Hospitalar de Cuiabá', 'tag': 'LOC'}\n{'entidade': 'Covid-19', 'tag': 'LOC'}\n{'entidade': 'Andersen', 'tag': 'PER'}\n{'entidade': 'Navarro', 'tag': 'PER'}\n{'entidade': 'TV Cidade Verde', 'tag': 'LOC'}\n{'entidade': '‘', 'tag': 'PER'}\n{'entidade': 'TV Centro América', 'tag': 'MISC'}\n"
     ]
    }
   ],
   "source": [
    "for e in nlp.getEntidades():\n",
    "    print(e)"
   ]
  }
 ]
}