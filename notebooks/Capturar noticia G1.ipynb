{
 "cells": [
  {
   "cell_type": "code",
   "execution_count": 1,
   "id": "optical-consumption",
   "metadata": {
    "scrolled": true
   },
   "outputs": [],
   "source": [
    "# Instalação de pacotes\n",
    "#!pip install requests\n",
    "#!pip install bs4\n",
    "#!pip install lxml\n",
    "#!pip install tqdm\n",
    "#!pip install selenium\n",
    "# para utilização do selenium é necessário baixar:\n",
    "# https://chromedriver.storage.googleapis.com/89.0.4389.23/chromedriver_win32.zip\n",
    "# deve ser descompactado no mesmo diretório deste notebook"
   ]
  },
  {
   "cell_type": "code",
   "execution_count": 2,
   "id": "electoral-firewall",
   "metadata": {},
   "outputs": [],
   "source": [
    "import sys, os\n",
    "sys.path.append(os.path.abspath(os.path.join('../..', 'CovidReport')))\n",
    "import requests\n",
    "import lxml\n",
    "from bs4 import BeautifulSoup\n",
    "from selenium import webdriver\n",
    "from urllib.parse import urlencode\n",
    "from time import sleep\n",
    "import json\n",
    "from tqdm import tqdm\n",
    "from coletores.G1Crawler import CrawlerG1"
   ]
  },
  {
   "cell_type": "code",
   "execution_count": 3,
   "id": "excess-feature",
   "metadata": {},
   "outputs": [],
   "source": [
    "def gravarJson(fileName, dados):\n",
    "    with open(fileName, 'w') as outfile:\n",
    "        json.dump(dados, outfile, indent=3)\n",
    "\n",
    "def carregaDadosJson(fileName):\n",
    "    with open(fileName) as json_file:\n",
    "        data = json.load(json_file)\n",
    "        return data"
   ]
  },
  {
   "cell_type": "code",
   "execution_count": 4,
   "id": "protecting-backing",
   "metadata": {},
   "outputs": [],
   "source": [
    "urlNoticia = \"https://g1.globo.com/politica/blog/valdo-cruz/post/2021/03/19/nao-queremos-discurso-queremos-acao-dizem-convidados-para-reuniao-com-bolsonaro-sobre-covid.ghtml\""
   ]
  },
  {
   "cell_type": "code",
   "execution_count": 5,
   "id": "sustained-drove",
   "metadata": {},
   "outputs": [
    {
     "output_type": "stream",
     "name": "stdout",
     "text": [
      "Recuperando notícia de  https://g1.globo.com/politica/blog/valdo-cruz/post/2021/03/19/nao-queremos-discurso-queremos-acao-dizem-convidados-para-reuniao-com-bolsonaro-sobre-covid.ghtml\n",
      "carregando comentarios... https://g1.globo.com/politica/blog/valdo-cruz/post/2021/03/19/nao-queremos-discurso-queremos-acao-dizem-convidados-para-reuniao-com-bolsonaro-sobre-covid.ghtml\n",
      "8  comentario(s) carregados\n",
      "Wall time: 4.36 s\n"
     ]
    }
   ],
   "source": [
    "%%time \n",
    "c = CrawlerG1(urlNoticia)\n",
    "noticia = c.getNoticia()\n",
    "noticia[\"comentarios\"] = c.getComentariosNoticia()"
   ]
  },
  {
   "cell_type": "markdown",
   "id": "collective-characterization",
   "metadata": {},
   "source": [
    "### Coleta de relação de notícias de https://g1.globo.com/sitemap/g1/sitemap.xml apenas ano 2021"
   ]
  },
  {
   "cell_type": "code",
   "execution_count": 6,
   "id": "involved-gateway",
   "metadata": {
    "scrolled": true
   },
   "outputs": [
    {
     "output_type": "stream",
     "name": "stderr",
     "text": [
      "100%|██████████| 6941/6941 [02:16<00:00, 50.73it/s] Noticias coletadas:  85807\n",
      "Wall time: 2min 19s\n",
      "\n"
     ]
    }
   ],
   "source": [
    "%%time\n",
    "ano = \"2021\"\n",
    "response = requests.get(\"https://g1.globo.com/sitemap/g1/sitemap.xml\")\n",
    "xmlList = BeautifulSoup(response.content, \"html.parser\")\n",
    "listaNoticias = []\n",
    "listaBase = [i for i in xmlList.find_all(\"loc\")]\n",
    "for r in tqdm(listaBase):\n",
    "    if (r.text.split(\"/\")[5] == ano):\n",
    "        response = requests.get(r.text)\n",
    "        for url in BeautifulSoup(response.content, \"html.parser\").find_all(\"url\"):\n",
    "            loc = url.find(\"loc\")\n",
    "            regiao = \"\"\n",
    "            localidade = \"\"\n",
    "            if (loc): \n",
    "                loc = loc.text\n",
    "                regiao = loc.split(\"/\")[3].upper()\n",
    "                localidade = loc.split(\"/\")[4].replace(\"-\",\" \").capitalize()\n",
    "            image = url.find(\"image:loc\")\n",
    "            if (image): image = image.text\n",
    "            dado = {\n",
    "                    \"url\":loc,\n",
    "                    \"image\":image,\n",
    "                    \"regiao\": regiao,\n",
    "                    \"localidade\": localidade\n",
    "                   }\n",
    "            listaNoticias.append(dado)\n",
    "print(\"Noticias coletadas: \", len(listaNoticias))"
   ]
  },
  {
   "cell_type": "code",
   "execution_count": 7,
   "id": "metric-chain",
   "metadata": {},
   "outputs": [],
   "source": [
    "gravarJson(\"dados\\lista-noticias-full.json\", listaNoticias)"
   ]
  },
  {
   "cell_type": "markdown",
   "id": "authentic-income",
   "metadata": {},
   "source": [
    "### Filtrar notícias pelas palavras chaves"
   ]
  },
  {
   "cell_type": "code",
   "execution_count": 8,
   "id": "exact-pantyhose",
   "metadata": {},
   "outputs": [
    {
     "output_type": "stream",
     "name": "stderr",
     "text": [
      "100%|██████████| 85807/85807 [00:00<00:00, 179513.03it/s]Noticias filtradas: 21842\n",
      "Wall time: 481 ms\n",
      "\n"
     ]
    }
   ],
   "source": [
    "%%time\n",
    "palavrasChave = [\"COVID\", \"PANDEMIA\", \"CORONAVIRUS\", \"VACINA\"]\n",
    "\n",
    "listaNoticiasCovid = []\n",
    "contador = 0\n",
    "for n in tqdm(listaNoticias):\n",
    "    if any(item in palavrasChave for item in n[\"url\"].upper().replace(\"/\", \"-\").replace(\".\",\"-\").split(\"-\")):\n",
    "        listaNoticiasCovid.append(n)\n",
    "print(\"Noticias filtradas:\", len(listaNoticiasCovid))    "
   ]
  },
  {
   "cell_type": "code",
   "execution_count": 9,
   "id": "cubic-sperm",
   "metadata": {},
   "outputs": [],
   "source": [
    "gravarJson(\"dados\\lista-noticias-covid.json\", listaNoticiasCovid)"
   ]
  },
  {
   "cell_type": "markdown",
   "id": "widespread-chick",
   "metadata": {},
   "source": [
    "### Coletar Notícias de covid da lista"
   ]
  },
  {
   "cell_type": "code",
   "execution_count": 10,
   "id": "abroad-illinois",
   "metadata": {},
   "outputs": [],
   "source": [
    "noticiasCovid = carregaDadosJson(\"dados\\\\noticias-covid.json\")"
   ]
  },
  {
   "cell_type": "code",
   "execution_count": 11,
   "metadata": {},
   "outputs": [
    {
     "output_type": "stream",
     "name": "stdout",
     "text": [
      "22\n"
     ]
    }
   ],
   "source": [
    "auxurls = [n[\"url\"] for n in noticiasCovid]\n",
    "novas = 0\n",
    "for i in listaNoticiasCovid:\n",
    "    if not(i[\"url\"] in auxurls):\n",
    "        noticiasCovid.append(i)\n",
    "        novas +=1\n",
    "print(novas)        "
   ]
  },
  {
   "cell_type": "code",
   "execution_count": 12,
   "id": "random-harvey",
   "metadata": {
    "scrolled": false,
    "tags": []
   },
   "outputs": [
    {
     "output_type": "stream",
     "name": "stderr",
     "text": [
      "100%|██████████| 21843/21843 [3:14:27<00:00,  1.87it/s]\n",
      "Wall time: 3h 14min 31s\n"
     ]
    }
   ],
   "source": [
    "%%time\n",
    "c = CrawlerG1(\"\")\n",
    "c.setFeedback(False)\n",
    "coletados = 0\n",
    "ignorados = 0\n",
    "gravar = 0\n",
    "for i in tqdm(range(0,len(noticiasCovid))):\n",
    "    capturar = not (\"noticia\" in noticiasCovid[i].keys())\n",
    "    capturar = capturar or not (noticiasCovid[i][\"noticia\"])\n",
    "    if capturar:\n",
    "        try:\n",
    "            c.setUrlNoticia(noticiasCovid[i][\"url\"])\n",
    "            noticia = c.getNoticia()\n",
    "            noticia[\"comentarios\"] = c.getComentariosNoticia()\n",
    "            noticiasCovid[i].update(noticia)\n",
    "            coletados += 1\n",
    "            gravar += 1\n",
    "            if gravar >= 100:\n",
    "                gravar = 0\n",
    "                gravarJson(\"dados\\\\noticias-covid.json\", noticiasCovid)\n",
    "        except:\n",
    "            ignorados += 1\n",
    "            print(noticiasCovid[i][\"url\"])\n",
    "gravarJson(\"dados\\\\noticias-covid.json\", noticiasCovid)            "
   ]
  },
  {
   "cell_type": "code",
   "execution_count": 13,
   "id": "normal-underwear",
   "metadata": {},
   "outputs": [
    {
     "output_type": "stream",
     "name": "stdout",
     "text": [
      "coletados:  1761\nignorados:  0\n"
     ]
    }
   ],
   "source": [
    "print(\"coletados: \", coletados)\n",
    "print(\"ignorados: \", ignorados)"
   ]
  },
  {
   "cell_type": "code",
   "execution_count": 14,
   "id": "clean-leadership",
   "metadata": {},
   "outputs": [
    {
     "output_type": "stream",
     "name": "stderr",
     "text": [
      "100%|██████████| 21843/21843 [00:00<00:00, 780363.05it/s]\n",
      "\n",
      " 21843 21843 100.0\n",
      "\n"
     ]
    }
   ],
   "source": [
    "coletadas = 0\n",
    "for i in tqdm(range(0,len(noticiasCovid))):\n",
    "    if (\"noticia\" in noticiasCovid[i].keys()):\n",
    "        coletadas += 1\n",
    "print(\"\\n\\n\",coletadas, len(noticiasCovid), coletadas / len(noticiasCovid) *100)        "
   ]
  }
 ],
 "metadata": {
  "kernelspec": {
   "display_name": "Python 3",
   "language": "python",
   "name": "python3"
  },
  "language_info": {
   "codemirror_mode": {
    "name": "ipython",
    "version": 3
   },
   "file_extension": ".py",
   "mimetype": "text/x-python",
   "name": "python",
   "nbconvert_exporter": "python",
   "pygments_lexer": "ipython3",
   "version": "3.8.8-final"
  }
 },
 "nbformat": 4,
 "nbformat_minor": 5
}