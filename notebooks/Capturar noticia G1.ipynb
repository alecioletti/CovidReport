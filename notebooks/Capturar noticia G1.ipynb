{
 "cells": [
  {
   "cell_type": "code",
   "execution_count": null,
   "id": "optical-consumption",
   "metadata": {
    "scrolled": true
   },
   "outputs": [],
   "source": [
    "# Instalação de pacotes\n",
    "#!pip install requests\n",
    "#!pip install bs4\n",
    "#!pip install lxml\n",
    "#!pip install tqdm\n",
    "#!pip install selenium\n",
    "# para utilização do selenium é necessário baixar:\n",
    "# https://chromedriver.storage.googleapis.com/89.0.4389.23/chromedriver_win32.zip\n",
    "# deve ser descompactado no mesmo diretório deste notebook"
   ]
  },
  {
   "cell_type": "code",
   "execution_count": 24,
   "id": "infrared-intersection",
   "metadata": {},
   "outputs": [
    {
     "name": "stdout",
     "output_type": "stream",
     "text": [
      "Adicionando covid report ao path C:\\Users\\andre\\Documents\\CDBD\\Projeto Final\\Python\\CovidReport\\\n"
     ]
    }
   ],
   "source": [
    "import sys, os\n",
    "print(\"Adicionando covid report ao path\", os.environ.get(\"COVIDREPORT_HOME\"))\n",
    "sys.path.append(os.environ.get(\"COVIDREPORT_HOME\"))"
   ]
  },
  {
   "cell_type": "code",
   "execution_count": 80,
   "id": "electoral-firewall",
   "metadata": {},
   "outputs": [],
   "source": [
    "import requests\n",
    "import lxml\n",
    "from bs4 import BeautifulSoup\n",
    "from selenium import webdriver\n",
    "from urllib.parse import urlencode\n",
    "from time import sleep\n",
    "import json\n",
    "from tqdm import tqdm\n",
    "from coletores.G1Crawler import CrawlerG1"
   ]
  },
  {
   "cell_type": "code",
   "execution_count": 81,
   "id": "excess-feature",
   "metadata": {},
   "outputs": [],
   "source": [
    "def gravarJson(fileName, dados):\n",
    "    with open(fileName, 'w') as outfile:\n",
    "        json.dump(dados, outfile, indent=3)\n",
    "\n",
    "def carregaDadosJson(fileName):\n",
    "    with open(fileName) as json_file:\n",
    "        data = json.load(json_file)\n",
    "        return data"
   ]
  },
  {
   "cell_type": "code",
   "execution_count": 82,
   "id": "protecting-backing",
   "metadata": {},
   "outputs": [],
   "source": [
    "urlNoticia = \"https://g1.globo.com/politica/blog/valdo-cruz/post/2021/03/19/nao-queremos-discurso-queremos-acao-dizem-convidados-para-reuniao-com-bolsonaro-sobre-covid.ghtml\""
   ]
  },
  {
   "cell_type": "code",
   "execution_count": 83,
   "id": "sustained-drove",
   "metadata": {},
   "outputs": [
    {
     "name": "stdout",
     "output_type": "stream",
     "text": [
      "COVIDREPORT_HOME C:\\Users\\andre\\Documents\\CDBD\\Projeto Final\\Python\\CovidReport\\\n",
      "Recuperando notícia de  https://g1.globo.com/politica/blog/valdo-cruz/post/2021/03/19/nao-queremos-discurso-queremos-acao-dizem-convidados-para-reuniao-com-bolsonaro-sobre-covid.ghtml\n"
     ]
    },
    {
     "name": "stderr",
     "output_type": "stream",
     "text": [
      "C:\\Users\\andre\\anaconda3\\envs\\ProjetoFinal\\lib\\site-packages\\urllib3\\connectionpool.py:1013: InsecureRequestWarning: Unverified HTTPS request is being made to host 'g1.globo.com'. Adding certificate verification is strongly advised. See: https://urllib3.readthedocs.io/en/latest/advanced-usage.html#ssl-warnings\n",
      "  warnings.warn(\n"
     ]
    },
    {
     "name": "stdout",
     "output_type": "stream",
     "text": [
      "carregando comentarios... https://g1.globo.com/politica/blog/valdo-cruz/post/2021/03/19/nao-queremos-discurso-queremos-acao-dizem-convidados-para-reuniao-com-bolsonaro-sobre-covid.ghtml\n",
      "8  comentario(s) carregados\n",
      "Wall time: 6.89 s\n"
     ]
    }
   ],
   "source": [
    "%%time \n",
    "c = CrawlerG1(urlNoticia)\n",
    "noticia = c.getNoticia()\n",
    "noticia[\"comentarios\"] = c.getComentariosNoticia()"
   ]
  },
  {
   "cell_type": "markdown",
   "id": "collective-characterization",
   "metadata": {},
   "source": [
    "### Coleta de relação de notícias de https://g1.globo.com/sitemap/g1/sitemap.xml apenas ano 2021"
   ]
  },
  {
   "cell_type": "code",
   "execution_count": null,
   "id": "involved-gateway",
   "metadata": {
    "scrolled": true
   },
   "outputs": [],
   "source": [
    "%%time\n",
    "ano = \"2021\"\n",
    "response = requests.get(\"https://g1.globo.com/sitemap/g1/sitemap.xml\")\n",
    "xmlList = BeautifulSoup(response.content, \"html.parser\")\n",
    "listaNoticias = []\n",
    "listaBase = [i for i in xmlList.find_all(\"loc\")]\n",
    "for r in tqdm(listaBase):\n",
    "    if (r.text.split(\"/\")[5] == ano):\n",
    "        response = requests.get(r.text)\n",
    "        for url in BeautifulSoup(response.content, \"html.parser\").find_all(\"url\"):\n",
    "            loc = url.find(\"loc\")\n",
    "            regiao = \"\"\n",
    "            localidade = \"\"\n",
    "            if (loc): \n",
    "                loc = loc.text\n",
    "                regiao = loc.split(\"/\")[3].upper()\n",
    "                localidade = loc.split(\"/\")[4].replace(\"-\",\" \").capitalize()\n",
    "            image = url.find(\"image:loc\")\n",
    "            if (image): image = image.text\n",
    "            dado = {\n",
    "                    \"url\":loc,\n",
    "                    \"image\":image,\n",
    "                    \"regiao\": regiao,\n",
    "                    \"localidade\": localidade\n",
    "                   }\n",
    "            listaNoticias.append(dado)\n",
    "print(\"Noticias coletadas: \", len(listaNoticias))"
   ]
  },
  {
   "cell_type": "code",
   "execution_count": null,
   "id": "metric-chain",
   "metadata": {},
   "outputs": [],
   "source": [
    "gravarJson(\"dados\\lista-noticias-full.json\", listaNoticias)"
   ]
  },
  {
   "cell_type": "markdown",
   "id": "authentic-income",
   "metadata": {},
   "source": [
    "### Filtrar notícias pelas palavras chaves"
   ]
  },
  {
   "cell_type": "code",
   "execution_count": null,
   "id": "exact-pantyhose",
   "metadata": {},
   "outputs": [],
   "source": [
    "%%time\n",
    "palavrasChave = [\"COVID\", \"PANDEMIA\", \"CORONAVIRUS\", \"VACINA\"]\n",
    "\n",
    "listaNoticiasCovid = []\n",
    "contador = 0\n",
    "for n in tqdm(listaNoticias):\n",
    "    if any(item in palavrasChave for item in n[\"url\"].upper().replace(\"/\", \"-\").replace(\".\",\"-\").split(\"-\")):\n",
    "        listaNoticiasCovid.append(n)\n",
    "print(\"Noticias filtradas:\", len(listaNoticiasCovid))    "
   ]
  },
  {
   "cell_type": "code",
   "execution_count": null,
   "id": "cubic-sperm",
   "metadata": {},
   "outputs": [],
   "source": [
    "gravarJson(\"dados\\lista-noticias-covid.json\", listaNoticiasCovid)"
   ]
  },
  {
   "cell_type": "markdown",
   "id": "widespread-chick",
   "metadata": {},
   "source": [
    "### Coletar Notícias de covid da lista"
   ]
  },
  {
   "cell_type": "code",
   "execution_count": null,
   "id": "abroad-illinois",
   "metadata": {},
   "outputs": [],
   "source": [
    "noticiasCovid = carregaDadosJson(\"dados\\\\noticias-covid.json\")"
   ]
  },
  {
   "cell_type": "code",
   "execution_count": null,
   "id": "strange-elevation",
   "metadata": {},
   "outputs": [],
   "source": [
    "auxurls = [n[\"url\"] for n in noticiasCovid]\n",
    "novas = 0\n",
    "for i in listaNoticiasCovid:\n",
    "    if not(i[\"url\"] in auxurls):\n",
    "        noticiasCovid.append(i)\n",
    "        novas +=1\n",
    "print(novas)        "
   ]
  },
  {
   "cell_type": "code",
   "execution_count": null,
   "id": "random-harvey",
   "metadata": {
    "scrolled": false,
    "tags": []
   },
   "outputs": [],
   "source": [
    "%%time\n",
    "c = CrawlerG1(\"\")\n",
    "c.setFeedback(False)\n",
    "coletados = 0\n",
    "ignorados = 0\n",
    "gravar = 0\n",
    "for i in tqdm(range(0,len(noticiasCovid))):\n",
    "    capturar = not (\"noticia\" in noticiasCovid[i].keys())\n",
    "    capturar = capturar or not (noticiasCovid[i][\"noticia\"])\n",
    "    if capturar:\n",
    "        try:\n",
    "            c.setUrlNoticia(noticiasCovid[i][\"url\"])\n",
    "            noticia = c.getNoticia()\n",
    "            noticia[\"comentarios\"] = c.getComentariosNoticia()\n",
    "            noticiasCovid[i].update(noticia)\n",
    "            coletados += 1\n",
    "            gravar += 1\n",
    "            if gravar >= 100:\n",
    "                gravar = 0\n",
    "                gravarJson(\"dados\\\\noticias-covid.json\", noticiasCovid)\n",
    "        except:\n",
    "            ignorados += 1\n",
    "            print(noticiasCovid[i][\"url\"])\n",
    "gravarJson(\"dados\\\\noticias-covid.json\", noticiasCovid)            "
   ]
  },
  {
   "cell_type": "code",
   "execution_count": null,
   "id": "normal-underwear",
   "metadata": {},
   "outputs": [],
   "source": [
    "print(\"coletados: \", coletados)\n",
    "print(\"ignorados: \", ignorados)"
   ]
  },
  {
   "cell_type": "code",
   "execution_count": null,
   "id": "clean-leadership",
   "metadata": {},
   "outputs": [],
   "source": [
    "coletadas = 0\n",
    "for i in tqdm(range(0,len(noticiasCovid))):\n",
    "    if (\"noticia\" in noticiasCovid[i].keys()):\n",
    "        coletadas += 1\n",
    "print(\"\\n\\n\",coletadas, len(noticiasCovid), coletadas / len(noticiasCovid) *100)        "
   ]
  }
 ],
 "metadata": {
  "kernelspec": {
   "display_name": "Python 3",
   "language": "python",
   "name": "python3"
  },
  "language_info": {
   "codemirror_mode": {
    "name": "ipython",
    "version": 3
   },
   "file_extension": ".py",
   "mimetype": "text/x-python",
   "name": "python",
   "nbconvert_exporter": "python",
   "pygments_lexer": "ipython3",
   "version": "3.8.8"
  }
 },
 "nbformat": 4,
 "nbformat_minor": 5
}
